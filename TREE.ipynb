{
 "cells": [
  {
   "cell_type": "code",
   "id": "initial_id",
   "metadata": {
    "collapsed": true,
    "ExecuteTime": {
     "end_time": "2024-05-24T08:58:11.253312Z",
     "start_time": "2024-05-24T08:58:11.241541Z"
    }
   },
   "source": [
    "class TreeNode:\n",
    "    def __init__(self, data):\n",
    "        self.data = data\n",
    "        self.children = []\n",
    "        self.parent = None\n",
    "\n",
    "    def add_child(self, child):\n",
    "        child.parent = self\n",
    "        self.children.append(child)\n",
    "\n",
    "    def print_tree(self, level=0):\n",
    "        indent = ' ' * (level * 4)\n",
    "        print(f\"{indent}{self.data}\")\n",
    "        if self.children:\n",
    "            for child in self.children:\n",
    "                child.print_tree(level + 1)\n",
    "\n",
    "\n",
    "def build():\n",
    "    root = TreeNode(\"Electronics\")\n",
    "\n",
    "    laptop = TreeNode(\"Laptop\")\n",
    "    laptop.add_child(TreeNode(\"Mac\"))\n",
    "    laptop.add_child(TreeNode(\"Windows\"))\n",
    "\n",
    "    cellphone = TreeNode(\"Phone\")\n",
    "    cellphone.add_child(TreeNode(\"RedMi\"))\n",
    "    cellphone.add_child(TreeNode(\"iPhone\"))\n",
    "\n",
    "    tv = TreeNode(\"TV\")\n",
    "    tv.add_child(TreeNode(\"Samsung\"))\n",
    "    tv.add_child(TreeNode(\"LG\"))\n",
    "\n",
    "    root.add_child(laptop)\n",
    "    root.add_child(cellphone)\n",
    "    root.add_child(tv)\n",
    "\n",
    "    return root\n",
    "\n",
    "\n",
    "if __name__ == \"__main__\":\n",
    "    root = build()\n",
    "    root.print_tree()\n",
    "\n"
   ],
   "execution_count": 8,
   "outputs": []
  }
 ],
 "metadata": {
  "kernelspec": {
   "display_name": "Python 3",
   "language": "python",
   "name": "python3"
  },
  "language_info": {
   "codemirror_mode": {
    "name": "ipython",
    "version": 2
   },
   "file_extension": ".py",
   "mimetype": "text/x-python",
   "name": "python",
   "nbconvert_exporter": "python",
   "pygments_lexer": "ipython2",
   "version": "2.7.6"
  }
 },
 "nbformat": 4,
 "nbformat_minor": 5
}
